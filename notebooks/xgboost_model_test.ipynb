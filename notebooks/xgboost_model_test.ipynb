{
 "cells": [
  {
   "cell_type": "code",
   "execution_count": 1,
   "metadata": {},
   "outputs": [],
   "source": [
    "import pandas as pd\n",
    "\n",
    "import xgboost as xgb\n",
    "from xgboost import XGBClassifier\n",
    "from sklearn.model_selection import StratifiedKFold, RandomizedSearchCV, cross_val_score\n",
    "from sklearn.metrics import roc_auc_score, precision_score, recall_score, make_scorer\n",
    "import numpy as np\n",
    "import warnings\n",
    "warnings.filterwarnings(\"ignore\", category=UserWarning)\n",
    "\n",
    "# Visualization imports (if you wish to visualize metrics)\n",
    "import matplotlib.pyplot as plt\n",
    "import seaborn as sns"
   ]
  },
  {
   "cell_type": "code",
   "execution_count": 2,
   "metadata": {},
   "outputs": [
    {
     "name": "stdout",
     "output_type": "stream",
     "text": [
      "Features shape: (147396, 16)\n",
      "Target shape: (147396,)\n"
     ]
    }
   ],
   "source": [
    "# Load the preprocessed datasets\n",
    "combined_y1 = pd.read_csv(\"../data/preprocessed/prp_combined_Y1.csv\")\n",
    "combined_y2 = pd.read_csv(\"../data/preprocessed/prp_combined_Y2.csv\")\n",
    "\n",
    "# Combine Y1 and Y2 data for training\n",
    "combined_df = pd.concat([combined_y1, combined_y2], axis=0)\n",
    "\n",
    "# Separate the features and target variable\n",
    "X = combined_df.drop(columns=['DaysInHospitalY2', 'DaysInHospitalY3', 'MemberID'])\n",
    "y = combined_df['DaysInHospitalY2']\n",
    "\n",
    "# Display a summary of the features and the target\n",
    "print(\"Features shape:\", X.shape)\n",
    "print(\"Target shape:\", y.shape)"
   ]
  },
  {
   "cell_type": "code",
   "execution_count": 3,
   "metadata": {},
   "outputs": [
    {
     "name": "stdout",
     "output_type": "stream",
     "text": [
      "Number of NaN values in y before dropping: 71400\n",
      "Number of NaN values in y after dropping: 0\n"
     ]
    }
   ],
   "source": [
    "# Check if there are any NaN values in y\n",
    "print(f\"Number of NaN values in y before dropping: {y.isna().sum()}\")\n",
    "\n",
    "# Drop rows where y is NaN\n",
    "X = X[~y.isna()]\n",
    "y = y.dropna()\n",
    "\n",
    "# Confirm there are no NaN values left\n",
    "print(f\"Number of NaN values in y after dropping: {y.isna().sum()}\")"
   ]
  },
  {
   "cell_type": "code",
   "execution_count": 4,
   "metadata": {},
   "outputs": [
    {
     "name": "stdout",
     "output_type": "stream",
     "text": [
      "Fitting 4 folds for each of 10 candidates, totalling 40 fits\n",
      "Fitting 4 folds for each of 10 candidates, totalling 40 fits\n",
      "Fitting 4 folds for each of 10 candidates, totalling 40 fits\n",
      "Fitting 4 folds for each of 10 candidates, totalling 40 fits\n",
      "Fitting 4 folds for each of 10 candidates, totalling 40 fits\n",
      "Mean ROC-AUC: 0.7528702669235218\n",
      "Mean Precision: 0.8311581339610541\n",
      "Mean Recall: 0.06312740781028725\n"
     ]
    }
   ],
   "source": [
    "# Set up nested cross-validation strategy\n",
    "outer_cv = StratifiedKFold(n_splits=5, shuffle=True, random_state=42)\n",
    "inner_cv = StratifiedKFold(n_splits=4, shuffle=True, random_state=42)\n",
    "\n",
    "# Define the parameter grid for RandomizedSearchCV\n",
    "param_grid = {\n",
    "    'learning_rate': [0.01, 0.05, 0.1, 0.2],\n",
    "    'max_depth': [3, 5, 7, 10],\n",
    "    'n_estimators': [50, 100, 200, 300],\n",
    "    'subsample': [0.8, 0.9, 1.0]\n",
    "}\n",
    "\n",
    "# Define the XGBoost classifier\n",
    "xgb_model = xgb.XGBClassifier(eval_metric='logloss', use_label_encoder=False)\n",
    "\n",
    "# Set up RandomizedSearchCV\n",
    "random_search = RandomizedSearchCV(\n",
    "    estimator=xgb_model,\n",
    "    param_distributions=param_grid,\n",
    "    n_iter=10,\n",
    "    scoring='roc_auc',\n",
    "    cv=inner_cv,\n",
    "    verbose=1,\n",
    "    random_state=42,\n",
    "    n_jobs=-1\n",
    ")\n",
    "\n",
    "# Cross-validation scoring metrics\n",
    "scorers = {\n",
    "    'roc_auc': make_scorer(roc_auc_score),\n",
    "    'precision': make_scorer(precision_score, zero_division=1),\n",
    "    'recall': make_scorer(recall_score, zero_division=1)\n",
    "}\n",
    "\n",
    "# Set up empty lists to store scores\n",
    "outer_scores = []\n",
    "\n",
    "# Loop for the outer cross-validation\n",
    "for train_idx, test_idx in outer_cv.split(X, y):\n",
    "    X_train, X_test = X.iloc[train_idx], X.iloc[test_idx]\n",
    "    y_train, y_test = y.iloc[train_idx], y.iloc[test_idx]\n",
    "    \n",
    "    # Perform hyperparameter tuning using inner cross-validation\n",
    "    random_search.fit(X_train, y_train)\n",
    "    \n",
    "    # Best estimator from inner cross-validation\n",
    "    best_model = random_search.best_estimator_\n",
    "    \n",
    "    # Evaluate the model on the outer test fold\n",
    "    y_pred_probs = best_model.predict_proba(X_test)  # Get the predicted probabilities\n",
    "    y_pred = best_model.predict(X_test)  # Get the predicted class labels\n",
    "\n",
    "    # Ensure y_pred and y_test are one-dimensional\n",
    "    y_pred = y_pred.ravel() if len(y_pred.shape) > 1 else y_pred\n",
    "    y_test = y_test.ravel() if len(y_test.shape) > 1 else y_test\n",
    "\n",
    "    # Evaluate the model on the outer test fold\n",
    "    if len(np.unique(y_test)) > 2:\n",
    "        roc_auc = roc_auc_score(y_test, y_pred_probs, multi_class='ovr')\n",
    "        precision = precision_score(y_test, y_pred, average='macro', zero_division=1)\n",
    "        recall = recall_score(y_test, y_pred, average='macro', zero_division=1)\n",
    "    else:\n",
    "        roc_auc = roc_auc_score(y_test, y_pred_probs[:, 1])  # For binary classification, take the second column\n",
    "        precision = precision_score(y_test, y_pred, average='binary', zero_division=1)\n",
    "        recall = recall_score(y_test, y_pred, average='binary', zero_division=1)\n",
    "    \n",
    "    # Store the scores\n",
    "    outer_scores.append({'roc_auc': roc_auc, 'precision': precision, 'recall': recall})\n",
    "\n",
    "# Convert the scores list into a DataFrame to analyze the results\n",
    "results_df = pd.DataFrame(outer_scores)\n",
    "print(\"Mean ROC-AUC:\", results_df['roc_auc'].mean())\n",
    "print(\"Mean Precision:\", results_df['precision'].mean())\n",
    "print(\"Mean Recall:\", results_df['recall'].mean())"
   ]
  }
 ],
 "metadata": {
  "kernelspec": {
   "display_name": "base",
   "language": "python",
   "name": "python3"
  },
  "language_info": {
   "codemirror_mode": {
    "name": "ipython",
    "version": 3
   },
   "file_extension": ".py",
   "mimetype": "text/x-python",
   "name": "python",
   "nbconvert_exporter": "python",
   "pygments_lexer": "ipython3",
   "version": "3.12.4"
  }
 },
 "nbformat": 4,
 "nbformat_minor": 2
}
