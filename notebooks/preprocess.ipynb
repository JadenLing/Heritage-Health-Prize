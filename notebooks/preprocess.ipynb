{
 "cells": [
  {
   "cell_type": "code",
   "execution_count": 102,
   "metadata": {},
   "outputs": [],
   "source": [
    "import pandas as pd\n",
    "import numpy as np"
   ]
  },
  {
   "cell_type": "code",
   "execution_count": null,
   "metadata": {},
   "outputs": [],
   "source": [
    "# Define the path to your directory containing the CSV files\n",
    "file_path = \"../data/raw/HHP_release3/\"\n",
    "\n",
    "# Load each file into a DataFrame\n",
    "claims_df = pd.read_csv(f\"{file_path}Claims.csv\")\n",
    "days_in_hospital_y2_df = pd.read_csv(f\"{file_path}DaysInHospital_Y2.csv\")\n",
    "days_in_hospital_y3_df = pd.read_csv(f\"{file_path}DaysInHospital_Y3.csv\")\n",
    "drug_count_df = pd.read_csv(f\"{file_path}DrugCount.csv\")\n",
    "lab_count_df = pd.read_csv(f\"{file_path}LabCount.csv\")\n",
    "lookup_primary_condition_group_df = pd.read_csv(f\"{file_path}Lookup PrimaryConditionGroup.csv\")\n",
    "lookup_procedure_group_df = pd.read_csv(f\"{file_path}Lookup ProcedureGroup.csv\")\n",
    "members_df = pd.read_csv(f\"{file_path}Members.csv\")\n",
    "target_df = pd.read_csv(f\"{file_path}Target.csv\")"
   ]
  },
  {
   "cell_type": "code",
   "execution_count": null,
   "metadata": {},
   "outputs": [],
   "source": [
    "claims_Y1 = claims_df.loc[claims_df[\"Year\"] == \"Y1\"]\n",
    "claims_Y2 = claims_df.loc[claims_df[\"Year\"] == \"Y2\"]\n",
    "claims_Y3 = claims_df.loc[claims_df[\"Year\"] == \"Y3\"]"
   ]
  },
  {
   "cell_type": "markdown",
   "metadata": {},
   "source": [
    "## **Claims Preprocessing**"
   ]
  },
  {
   "cell_type": "code",
   "execution_count": null,
   "metadata": {},
   "outputs": [],
   "source": [
    "# Define mapping for 'DSFS' conversion to numeric\n",
    "dsfs_mapping = {\n",
    "    '0- 1 month': 1,\n",
    "    '1- 2 months': 2,\n",
    "    '2- 3 months': 3,\n",
    "    '3- 4 months': 4,\n",
    "    '4- 5 months': 5,\n",
    "    '5- 6 months': 6,\n",
    "    '6- 7 months': 7,\n",
    "    '7- 8 months': 8,\n",
    "    '8- 9 months': 9,\n",
    "    '9-10 months': 10,\n",
    "    '10-11 months': 11,\n",
    "    '11-12 months': 12\n",
    "}\n",
    "\n",
    "charlsonIndex_mapping = {\n",
    "    '0': 0,\n",
    "    '1-2': 2,\n",
    "    '3-4': 3.5,\n",
    "    '5+': 5\n",
    "}\n",
    "\n",
    "length_of_stay_mapping = {\n",
    "    '1 day': 1,\n",
    "    '2 days': 2,\n",
    "    '3 days': 3,\n",
    "    '4 days': 4,\n",
    "    '5 days': 5,\n",
    "    '6 days': 6,\n",
    "    '1- 2 weeks': 10,  # Averaging 1.5 weeks (approximately 10 days)\n",
    "    '2- 4 weeks': 21,  # Averaging 3 weeks (approximately 21 days)\n",
    "    '4- 8 weeks': 42,  # Averaging 6 weeks (approximately 42 days)\n",
    "    '26+ weeks': 182   # 26 weeks (approximately 182 days)\n",
    "}\n",
    "\n",
    "# Apply the mapping to the LengthOfStay column, replacing NaN with NaN\n",
    "claims_df['LengthOfStay'] = claims_df['LengthOfStay'].map(length_of_stay_mapping)\n",
    "claims_df[\"LengthOfStay\"].fillna(0, inplace=True)\n",
    "\n",
    "# Replace '162+' with '162'\n",
    "claims_df['PayDelay'] = claims_df['PayDelay'].replace('162+', '162')\n",
    "\n",
    "# Convert the PayDelay column to numeric values\n",
    "claims_df['PayDelay'] = pd.to_numeric(claims_df['PayDelay'])\n",
    "\n",
    "# Apply the mapping to the DSFS column to convert it to numeric\n",
    "claims_df['DSFS'] = claims_df['DSFS'].map(dsfs_mapping)\n",
    "claims_df[\"CharlsonIndex\"] = claims_df[\"CharlsonIndex\"].map(charlsonIndex_mapping)\n",
    "\n"
   ]
  },
  {
   "cell_type": "code",
   "execution_count": null,
   "metadata": {},
   "outputs": [],
   "source": [
    "# Group by 'MemberID' and calculate the mode for each required column\n",
    "result = claims_Y1.groupby('MemberID').agg({\n",
    "    'ProviderID': lambda x: x.mode()[0] if not x.mode().empty else None,\n",
    "    'Vendor': lambda x: x.mode()[0] if not x.mode().empty else None,\n",
    "    'PCP': lambda x: x.mode()[0] if not x.mode().empty else None,\n",
    "    'Specialty': lambda x: x.mode()[0] if not x.mode().empty else None,\n",
    "    'PlaceSvc': lambda x: x.mode()[0] if not x.mode().empty else None,\n",
    "    'DSFS': lambda x: x.mode()[0] if not x.mode().empty else None,\n",
    "    'PrimaryConditionGroup': lambda x: x.mode()[0] if not x.mode().empty else None,\n",
    "    'ProcedureGroup': lambda x: x.mode()[0] if not x.mode().empty else None,\n",
    "    'SupLOS': lambda x: x.mode()[0] if not x.mode().empty else None,\n",
    "    'PayDelay': 'mean',           # Calculate the mean for PayDelay\n",
    "    'LengthOfStay': 'mean',       # Calculate the mean for LengthOfStay\n",
    "    'CharlsonIndex': 'mean',\n",
    "    \"SupLOS\": 'mean'\n",
    "})"
   ]
  },
  {
   "cell_type": "code",
   "execution_count": null,
   "metadata": {},
   "outputs": [],
   "source": [
    "result = result.reset_index().rename(columns={'index': 'MemberID'})"
   ]
  },
  {
   "cell_type": "code",
   "execution_count": null,
   "metadata": {},
   "outputs": [],
   "source": [
    "\n",
    "claims_Y2_agg = claims_Y2.groupby('MemberID').agg({\n",
    "    'ProviderID': lambda x: x.mode()[0] if not x.mode().empty else None,\n",
    "    'Vendor': lambda x: x.mode()[0] if not x.mode().empty else None,\n",
    "    'PCP': lambda x: x.mode()[0] if not x.mode().empty else None,\n",
    "    'Specialty': lambda x: x.mode()[0] if not x.mode().empty else None,\n",
    "    'PlaceSvc': lambda x: x.mode()[0] if not x.mode().empty else None,\n",
    "    'DSFS': lambda x: x.mode()[0] if not x.mode().empty else None,\n",
    "    'PrimaryConditionGroup': lambda x: x.mode()[0] if not x.mode().empty else None,\n",
    "    'ProcedureGroup': lambda x: x.mode()[0] if not x.mode().empty else None,\n",
    "    'SupLOS': lambda x: x.mode()[0] if not x.mode().empty else None,\n",
    "    'PayDelay': 'mean',           # Calculate the mean for PayDelay\n",
    "    'LengthOfStay': 'mean',       # Calculate the mean for LengthOfStay\n",
    "    'CharlsonIndex': 'mean',\n",
    "    \"SupLOS\": 'mean'\n",
    "})"
   ]
  },
  {
   "cell_type": "code",
   "execution_count": null,
   "metadata": {},
   "outputs": [],
   "source": [
    "claims_Y2_agg = claims_Y2_agg.reset_index().rename(columns={'index': 'MemberID'})"
   ]
  },
  {
   "cell_type": "code",
   "execution_count": null,
   "metadata": {},
   "outputs": [],
   "source": [
    "result.to_csv(\"../data/curated/Claims_Y1.csv\", index=False)\n",
    "claims_Y2_agg.to_csv(\"../data/curated/Claims_Y2.csv\", index=False)"
   ]
  },
  {
   "cell_type": "markdown",
   "metadata": {},
   "source": [
    "## **Drug**"
   ]
  },
  {
   "cell_type": "code",
   "execution_count": null,
   "metadata": {},
   "outputs": [],
   "source": [
    "drug_count_df[\"DSFS\"] = drug_count_df[\"DSFS\"].map(dsfs_mapping)\n",
    "\n",
    "drug_count_df[\"DrugCount\"] = drug_count_df[\"DrugCount\"].replace('7+', '7')\n",
    "drug_count_df[\"DrugCount\"] = pd.to_numeric(drug_count_df[\"DrugCount\"])\n",
    "\n",
    "drug_count_Y1 = drug_count_df[drug_count_df[\"Year\"] == 'Y1']\n",
    "drug_count_Y2 = drug_count_df[drug_count_df[\"Year\"] == 'Y2']\n",
    "\n",
    "drug_count_Y1_agg = drug_count_Y1.groupby('MemberID').agg({\n",
    "    'DSFS': 'mean', \n",
    "    'DrugCount': 'sum'\n",
    "})\n",
    "\n",
    "drug_count_Y2_agg = drug_count_Y2.groupby('MemberID').agg({\n",
    "    'DSFS': 'mean', \n",
    "    'DrugCount': 'sum'\n",
    "})\n",
    "\n",
    "drug_count_Y1_agg = drug_count_Y1_agg.reset_index().rename(columns={'index': 'MemberID'})\n",
    "drug_count_Y2_agg = drug_count_Y2_agg.reset_index().rename(columns={'index': 'MemberID'})\n",
    "\n",
    "drug_count_Y1_agg.to_csv(\"../data/curated/DrugCount_Y1.csv\", index = False)\n",
    "drug_count_Y2_agg.to_csv(\"../data/curated/DrugCount_Y2.csv\", index = False)"
   ]
  },
  {
   "cell_type": "markdown",
   "metadata": {},
   "source": [
    "## **Lab**"
   ]
  },
  {
   "cell_type": "code",
   "execution_count": null,
   "metadata": {},
   "outputs": [],
   "source": [
    "lab_count_df[\"DSFS\"] = lab_count_df[\"DSFS\"].map(dsfs_mapping)\n",
    "\n",
    "lab_count_df[\"LabCount\"] = lab_count_df[\"LabCount\"].replace(\"10+\", \"10\")\n",
    "lab_count_df[\"LabCount\"] = pd.to_numeric(lab_count_df[\"LabCount\"])\n",
    "lab_count_Y1 = lab_count_df[lab_count_df[\"Year\"] == \"Y1\"]\n",
    "lab_count_Y2 = lab_count_df[lab_count_df[\"Year\"] == \"Y2\"]\n",
    "\n",
    "lab_count_Y1_agg = lab_count_Y1.groupby('MemberID').agg({\n",
    "    'DSFS': 'mean', \n",
    "    'LabCount': 'sum'\n",
    "})\n",
    "\n",
    "lab_count_Y1_agg = lab_count_Y1_agg.reset_index().rename(columns={'index': 'MemberID'})\n",
    "\n",
    "lab_count_Y2_agg = lab_count_Y2.groupby('MemberID').agg({\n",
    "    'DSFS': 'mean', \n",
    "    'LabCount': 'sum'\n",
    "})\n",
    "\n",
    "lab_count_Y2_agg = lab_count_Y2_agg.reset_index().rename(columns={'index': 'MemberID'})\n",
    "\n",
    "lab_count_Y1_agg.to_csv(\"../data/curated/LabCount_Y1.csv\", index = False)\n",
    "lab_count_Y2_agg.to_csv(\"../data/curated/LabCount_Y2.csv\", index = False)"
   ]
  },
  {
   "cell_type": "code",
   "execution_count": 103,
   "metadata": {},
   "outputs": [],
   "source": [
    "# Load data\n",
    "combined_y1 = pd.read_csv(f\"../data/curated/combined_Y1.csv\")\n",
    "combined_y2 = pd.read_csv(f\"../data/curated/combined_Y2.csv\")"
   ]
  },
  {
   "cell_type": "markdown",
   "metadata": {},
   "source": [
    "## **Members**"
   ]
  },
  {
   "cell_type": "code",
   "execution_count": null,
   "metadata": {},
   "outputs": [],
   "source": [
    "members_df = pd.read_csv(\"../data/raw/HHP_release3/Members.csv\")\n",
    "\n",
    "age_mapping = {\n",
    "    '0-9': 5,\n",
    "    '10-19': 15,\n",
    "    '20-29': 25,\n",
    "    '30-39': 35,\n",
    "    '40-49': 45,\n",
    "    '50-59': 55,\n",
    "    '60-69': 65,\n",
    "    '70-79': 75,\n",
    "    '80+': 85,  # Assuming 85 as a representative value for 80+\n",
    "}\n",
    "\n",
    "members_df['AgeAtFirstClaim'] = members_df['AgeAtFirstClaim'].map(age_mapping)\n",
    "median_age = members_df['AgeAtFirstClaim'].median()\n",
    "members_df[\"AgeAtFirstClaim\"].fillna(median_age, inplace=True)\n",
    "members_df[\"Sex\"].fillna('N', inplace=True)\n",
    "\n",
    "members_df.to_csv(\"../data/curated/Members.csv\", index=False)"
   ]
  },
  {
   "cell_type": "markdown",
   "metadata": {},
   "source": [
    "## **Combine Data**"
   ]
  },
  {
   "cell_type": "code",
   "execution_count": null,
   "metadata": {},
   "outputs": [],
   "source": [
    "# Define the path to your directory containing the CSV files\n",
    "claims_Y1 = pd.read_csv(\"../data/curated/Claims_Y1.csv\")\n",
    "claims_Y2 = pd.read_csv(\"../data/curated/Claims_Y2.csv\")\n",
    "drugCount_Y1 = pd.read_csv(\"../data/curated/DrugCount_Y1.csv\")\n",
    "drugCount_Y2 = pd.read_csv(\"../data/curated/DrugCount_Y2.csv\")\n",
    "labCount_Y1 = pd.read_csv(\"../data/curated/LabCount_Y1.csv\")\n",
    "labCount_Y2 = pd.read_csv(\"../data/curated/LabCount_Y2.csv\")\n",
    "members_df = pd.read_csv(f\"../data/curated/Members.csv\")\n",
    "\n",
    "file_path = \"../data/raw/HHP_release3/\"\n",
    "\n",
    "days_in_hospital_y2_df = pd.read_csv(f\"{file_path}DaysInHospital_Y2.csv\")\n",
    "days_in_hospital_y3_df = pd.read_csv(f\"{file_path}DaysInHospital_Y3.csv\")"
   ]
  },
  {
   "cell_type": "code",
   "execution_count": null,
   "metadata": {},
   "outputs": [],
   "source": [
    "claims_Y1_merge = pd.merge(claims_Y1, members_df, on = \"MemberID\", how='left')\n",
    "claims_Y1_merge = pd.merge(claims_Y1_merge, drugCount_Y1, on = \"MemberID\", how='left')\n",
    "claims_Y1_merge = pd.merge(claims_Y1_merge, labCount_Y1, on = \"MemberID\", how='left')\n",
    "claims_Y1_merge = pd.merge(claims_Y1_merge, days_in_hospital_y2_df, on = \"MemberID\", how='left')\n",
    "\n",
    "claims_Y1_merge.to_csv(\"../data/curated/combined_Y1.csv\", index=False)"
   ]
  },
  {
   "cell_type": "code",
   "execution_count": null,
   "metadata": {},
   "outputs": [],
   "source": [
    "claims_Y2_merge = pd.merge(claims_Y2, members_df, on = \"MemberID\", how='left')\n",
    "claims_Y2_merge = pd.merge(claims_Y2_merge, drugCount_Y2, on = \"MemberID\", how='left')\n",
    "claims_Y2_merge = pd.merge(claims_Y2_merge, labCount_Y2, on = \"MemberID\", how='left')\n",
    "claims_Y2_merge = pd.merge(claims_Y2_merge, days_in_hospital_y3_df, on = \"MemberID\", how='left')\n",
    "\n",
    "claims_Y2_merge.to_csv(\"../data/curated/combined_Y2.csv\", index=False)"
   ]
  },
  {
   "cell_type": "markdown",
   "metadata": {},
   "source": [
    "## **Dropping Columns**\n",
    "Column `ProviderID`, `Vendor` and `PCP`, since these are random numerical variables that are random adding unnecessary noise."
   ]
  },
  {
   "cell_type": "code",
   "execution_count": 104,
   "metadata": {},
   "outputs": [],
   "source": [
    "# Drop columns ProviderID, Vendor, and PCP\n",
    "combined_y1.drop(columns=['ProviderID', 'Vendor', 'PCP'], inplace=True)\n",
    "combined_y2.drop(columns=['ProviderID', 'Vendor', 'PCP'], inplace=True)"
   ]
  },
  {
   "cell_type": "markdown",
   "metadata": {},
   "source": [
    "## **Handling Missing Numerical Values**"
   ]
  },
  {
   "cell_type": "code",
   "execution_count": 105,
   "metadata": {},
   "outputs": [],
   "source": [
    "# Replace null values in DSFS columns\n",
    "\n",
    "# Drop rows with missing values for DSFS_Claims\n",
    "combined_y1 = combined_y1.dropna(subset=[\"DSFS_x\"])\n",
    "combined_y2 = combined_y2.dropna(subset=[\"DSFS_x\"])\n",
    "\n",
    "# Replace missing values in DSFS_Drugs and DSFS_Labs with 12 (maximum value implying no claim was made in the last 12 months)\n",
    "combined_y1[\"DSFS_y\"] = combined_y1[\"DSFS_y\"].fillna(12)\n",
    "combined_y2[\"DSFS_y\"] = combined_y2[\"DSFS_y\"].fillna(12)\n",
    "combined_y1[\"DSFS\"] = combined_y1[\"DSFS\"].fillna(12)\n",
    "combined_y2[\"DSFS\"] = combined_y2[\"DSFS\"].fillna(12)"
   ]
  },
  {
   "cell_type": "code",
   "execution_count": 106,
   "metadata": {},
   "outputs": [],
   "source": [
    "# Replace missing values in DrugCount and LabCount with 0 (implies no drugs or labs were claimed)\n",
    "combined_y1[\"DrugCount\"] = combined_y1[\"DrugCount\"].fillna(0)\n",
    "combined_y2[\"DrugCount\"] = combined_y2[\"DrugCount\"].fillna(0)\n",
    "combined_y1[\"LabCount\"] = combined_y1[\"LabCount\"].fillna(0)\n",
    "combined_y2[\"LabCount\"] = combined_y2[\"LabCount\"].fillna(0)"
   ]
  },
  {
   "cell_type": "markdown",
   "metadata": {},
   "source": [
    "## **Handling Categorical Variables**\n",
    "The following section handles preprocessing categorical data from the following columns; `Specialty`, `PlaceSvc`, `PrimaryConditionGroup`, `ProcedureGroup`.\n",
    "Missing values in `Specialty` and `PlaceSvc` were first mode-imputed.\n",
    "Column `Specialty` was one-hot-encoded based on whether the specialty was likely to be located in a hospital or not.\n",
    "Column `PlaceSvc` was one-hot-encoded based on whether the place of service was classified as being in a hospital and the relative level of emergency. Noting that; services provided at a hospital (Outpatient) was not classified as being in a hospital."
   ]
  },
  {
   "cell_type": "code",
   "execution_count": 107,
   "metadata": {},
   "outputs": [],
   "source": [
    "# Mode imputation for missing values in Specialty\n",
    "mode_specialty_y1 = combined_y1['Specialty'].mode()[0]\n",
    "mode_specialty_y2 = combined_y2['Specialty'].mode()[0]\n",
    "combined_y1.fillna({'Specialty': mode_specialty_y1}, inplace=True)\n",
    "combined_y2.fillna({'Specialty': mode_specialty_y2}, inplace=True)\n",
    "\n",
    "# Mode imputation for missing values in PlaceSvc\n",
    "mode_placesv_y1 = combined_y1['PlaceSvc'].mode()[0]\n",
    "mode_placesv_y2 = combined_y2['PlaceSvc'].mode()[0]\n",
    "combined_y1.fillna({'PlaceSvc': mode_placesv_y1}, inplace=True)\n",
    "combined_y2.fillna({'PlaceSvc': mode_placesv_y2}, inplace=True)"
   ]
  },
  {
   "cell_type": "code",
   "execution_count": 108,
   "metadata": {},
   "outputs": [],
   "source": [
    "# One hot encode categroical variables in Specialty\n",
    "# 1 for specialties in hospitals, 0 for rest\n",
    "positive = ['Anesthesiology', 'Diagnostic Imaging', 'Emergency', 'Internal', 'Pathology', 'Surgery']\n",
    "combined_y1['Specialty'] = combined_y1['Specialty'].apply(lambda x: 1 if x in positive else 0)\n",
    "combined_y2['Specialty'] = combined_y2['Specialty'].apply(lambda x: 1 if x in positive else 0)\n",
    "\n",
    "# One hot encode categroical variables in PlaceSvc\n",
    "# 1 for specialties in hospitals, 0 for rest\n",
    "positive = ['Inpatient Hospital', 'Ambulance', 'Urgent Care']\n",
    "combined_y1['PlaceSvc'] = combined_y1['PlaceSvc'].apply(lambda x: 1 if x in positive else 0)\n",
    "combined_y2['PlaceSvc'] = combined_y2['PlaceSvc'].apply(lambda x: 1 if x in positive else 0)"
   ]
  },
  {
   "cell_type": "code",
   "execution_count": 109,
   "metadata": {},
   "outputs": [
    {
     "name": "stderr",
     "output_type": "stream",
     "text": [
      "C:\\Users\\Rasindu\\AppData\\Local\\Temp\\ipykernel_2400\\3680787470.py:2: FutureWarning: Downcasting behavior in `replace` is deprecated and will be removed in a future version. To retain the old behavior, explicitly call `result.infer_objects(copy=False)`. To opt-in to the future behavior, set `pd.set_option('future.no_silent_downcasting', True)`\n",
      "  combined_y1['Sex'] = combined_y1['Sex'].replace({'M': 0, 'N': 0.5, 'F': 1})\n",
      "C:\\Users\\Rasindu\\AppData\\Local\\Temp\\ipykernel_2400\\3680787470.py:3: FutureWarning: Downcasting behavior in `replace` is deprecated and will be removed in a future version. To retain the old behavior, explicitly call `result.infer_objects(copy=False)`. To opt-in to the future behavior, set `pd.set_option('future.no_silent_downcasting', True)`\n",
      "  combined_y2['Sex'] = combined_y2['Sex'].replace({'M': 0, 'N': 0.5, 'F': 1})\n"
     ]
    }
   ],
   "source": [
    "# Encode Sex column with normalised values\n",
    "combined_y1['Sex'] = combined_y1['Sex'].replace({'M': 0, 'N': 0.5, 'F': 1})\n",
    "combined_y2['Sex'] = combined_y2['Sex'].replace({'M': 0, 'N': 0.5, 'F': 1})"
   ]
  },
  {
   "cell_type": "code",
   "execution_count": 110,
   "metadata": {},
   "outputs": [],
   "source": [
    "# Drop rows with missing values since there are only a few\n",
    "subset = ['ProcedureGroup', 'PrimaryConditionGroup']\n",
    "combined_y1.dropna(subset=subset, inplace=True)\n",
    "combined_y2.dropna(subset=subset, inplace=True)"
   ]
  },
  {
   "cell_type": "markdown",
   "metadata": {},
   "source": [
    "`ProcedureGroup` was encoded using the following table, where each procedure was assigned a rank based on the expected hospital stay, ranked on a scale of 0 to 5, where a rank of 5 is a procedure expected to result in the longest stay.\n",
    "Rank assignments are based off of the conditions listed for each `ProcedureGroup` in https://foreverdata.org/1015/content/Data_Dictionary_release3.pdf and informal knowledge pertaining to the severity of the procedure.\n",
    "\n",
    "| ProcedureGroup | Description                             | Rank (0-5) |\n",
    "|----------------|-----------------------------------------|------------|\n",
    "| PL             | Pathology and Laboratory                | 0          |\n",
    "| RAD            | Radiology                               | 0          |\n",
    "| MED            | Medicine                                | 0          |\n",
    "| ANES           | Anesthesia                              | 1          |\n",
    "| EM             | Evaluation and Management               | 1          |\n",
    "| SEOA           | Surgery-Eye and Ocular Adnexa           | 1          |\n",
    "| SAS            | Surgery-Auditory System                 | 2          |\n",
    "| SIS            | Surgery-Integumentary System            | 2          |\n",
    "| SMCD           | Surgery-Maternity Care and Delivery     | 3          |\n",
    "| SO             | Surgery-Other                           | 3          |\n",
    "| SGS            | Surgery-Genital System                  | 3          |\n",
    "| SUS            | Surgery-Urinary System                  | 4          |\n",
    "| SDS            | Surgery-Digestive System                | 4          |\n",
    "| SMS            | Surgery-Musculoskeletal System          | 4          |\n",
    "| SRS            | Surgery-Respiratory System              | 5          |\n",
    "| SNS            | Surgery-Nervous System                  | 5          |\n",
    "| SCS            | Surgery-Cardiovascular System           | 5          |"
   ]
  },
  {
   "cell_type": "code",
   "execution_count": 111,
   "metadata": {},
   "outputs": [],
   "source": [
    "r0 = ['PL', 'RAD', 'MED']\n",
    "r1 = ['ANES', 'EM', 'SEOA']\n",
    "r2 = ['SAS', 'SIS']\n",
    "r3 = ['SMCD', 'SO', 'SGS']\n",
    "r4 = ['SUS', 'SDS', 'SMS']\n",
    "r5 = ['SRS', 'SNS', 'SCS']\n",
    "\n",
    "ranks = [r0, r1, r2, r3, r4, r5]\n",
    "\n",
    "for i in range(len(ranks)):\n",
    "    combined_y1['ProcedureGroup'] = combined_y1['ProcedureGroup'].apply(lambda x: i if x in ranks[i] else x)\n",
    "    combined_y2['ProcedureGroup'] = combined_y2['ProcedureGroup'].apply(lambda x: i if x in ranks[i] else x)"
   ]
  },
  {
   "cell_type": "markdown",
   "metadata": {},
   "source": [
    "`PrimaryConditionGroup` was encoded using the following table, where each procedure was assigned a rank based on the expected hospital stay, ranked on a scale of 1 to 5, where a rank of 5 is a procedure expected to result in the longest stay.\n",
    "Rank assignments are based off of the conditions listed for each `PrimaryConditionGroup` in https://foreverdata.org/1015/content/Data_Dictionary_release3.pdf and informal knowledge pertaining to the severity of the condition.\n",
    "\n",
    "| PrimaryConditionGroup | Description                                  | Rank (1-5) |\n",
    "|-----------------------|----------------------------------------------|------------|\n",
    "| GYNEC1                | Gynecology                                   | 1          |\n",
    "| ODaBNCA               | Ingestions and benign tumors                 | 1          |\n",
    "| PRGNCY                | Pregnancy                                    | 1          |\n",
    "| UTI                   | Urinary tract infections                     | 2          |\n",
    "| ARTHSPIN              | Arthropathies                                | 2          |\n",
    "| INFEC4                | All other infections                         | 2          |\n",
    "| SKNAUT                | Skin and autoimmune disorders                | 2          |\n",
    "| MISCL1                | Miscellaneous 1                              | 2          |\n",
    "| MSC2a3                | Miscellaneous 2                              | 2          |\n",
    "| MISCL5                | Miscellaneous 3                              | 2          |\n",
    "| HEMTOL                | Non-malignant hematologic                    | 2          |\n",
    "| ROAMI                 | Chest pain                                   | 2          |\n",
    "| HEART2                | Other cardiac conditions                     | 3          |\n",
    "| APPCHOL               | Appendicitis                                 | 3          |\n",
    "| SEIZURE               | Seizure                                      | 3          |\n",
    "| RENAL3                | Other renal disorders                        | 3          |\n",
    "| MISCHRT               | Miscellaneous cardiac                        | 3          |\n",
    "| METAB3                | Other metabolic disorders                    | 3          |\n",
    "| NEUMENT               | Other neurological disorders                 | 3          |\n",
    "| HEART4                | Atherosclerosis and peripheral vascular disease | 3       |\n",
    "| PERVALV               | Pericarditis                                 | 3          |\n",
    "| FLaELEC               | Fluid and electrolyte disorders              | 3          |\n",
    "| FXDISLC               | Fractures and dislocations                   | 3          |\n",
    "| PERINTL               | Perinatal period                             | 4          |\n",
    "| HIPFX                 | Hip fracture                                 | 4          |\n",
    "| GIOBSENT              | Gastrointestinal, IBD, and obstruction       | 4          |\n",
    "| GIBLEED               | Gastrointestinal bleeding                    | 4          |\n",
    "| LIVERDZ               | Liver disorders                              | 4          |\n",
    "| METAB1                | Diabetic ketoacidosis                        | 4          |\n",
    "| PNCRDZ                | Pancreatic disorders                         | 4          |\n",
    "| PNEUM                 | Pneumonia                                    | 4          |\n",
    "| COPD                  | Chronic obstructive pulmonary disorder       | 4          |\n",
    "| RENAL2                | Chronic renal failure                        | 4          |\n",
    "| RESPR4                | Acute respiratory disorders                  | 4          |\n",
    "| CHF                   | Congestive heart failure                     | 4          |\n",
    "| TRAUMA                | All other trauma                             | 4          |\n",
    "| CATAST                | Catastrophic conditions                      | 5          |\n",
    "| CANCRA                | Cancer A                                     | 5          |\n",
    "| CANCRB                | Cancer B                                     | 5          |\n",
    "| RENAL1                | Acute renal failure                          | 5          |\n",
    "| SEPSIS                | Sepsis                                       | 5          |\n",
    "| GYNECA                | Gynecologic cancers                          | 5          |\n",
    "| CANCRM                | Ovarian and metastatic cancer                | 5          |\n",
    "| STROKE                | Stroke                                       | 5          |\n",
    "| AMI                   | Acute myocardial infarction                  | 5          |"
   ]
  },
  {
   "cell_type": "code",
   "execution_count": 112,
   "metadata": {},
   "outputs": [],
   "source": [
    "r1 = ['GYNEC1', 'ODaBNCA', 'PRGNCY']\n",
    "r2 = ['UTI', 'ARTHSPIN', 'INFEC4', 'SKNAUT', 'MISCL1', 'HEMTOL', 'MSC2a3', 'ROAMI', 'MISCL5']\n",
    "r3 = ['HEART2', 'APPCHOL','SEIZURE', 'RENAL3', 'MISCHRT', 'METAB3', 'NEUMENT', 'HEART4', 'PERVALV', 'FLaELEC', 'FXDISLC']\n",
    "r4 = ['PERINTL', 'HIPFX', 'GIOBSENT', 'GIBLEED' , 'LIVERDZ', 'METAB1', 'PNCRDZ', 'PNEUM', 'COPD', 'RENAL2', 'RESPR4', 'CHF', 'TRAUMA']\n",
    "r5 = ['CATAST', 'CANCRA', 'CANCRB', 'RENAL1', 'SEPSIS', 'GYNECA', 'CANCRM', 'STROKE', 'AMI']\n",
    "\n",
    "ranks = [r1, r2, r3, r4, r5]\n",
    "\n",
    "for i in range(1,len(ranks)+1):\n",
    "    combined_y1['PrimaryConditionGroup'] = combined_y1['PrimaryConditionGroup'].apply(lambda x: i if x in ranks[i-1] else x)\n",
    "    combined_y2['PrimaryConditionGroup'] = combined_y2['PrimaryConditionGroup'].apply(lambda x: i if x in ranks[i-1] else x)"
   ]
  },
  {
   "cell_type": "markdown",
   "metadata": {},
   "source": [
    "## **Normalization**\n",
    "This section is intended to normalize the data in `LengthOfStay` column, however, this has been moved to within the cross validation loops since the normalizer should be fit with only training data (and not also validation/testing data)."
   ]
  },
  {
   "cell_type": "markdown",
   "metadata": {},
   "source": [
    "## **Exporting DataFrames**"
   ]
  },
  {
   "cell_type": "code",
   "execution_count": 113,
   "metadata": {},
   "outputs": [],
   "source": [
    "combined_y1.rename(columns={'DSFS_x': 'DSFS_Claims', 'DSFS_y': 'DSFS_Drugs', 'DSFS': 'DSFS_Lab'}, inplace=True)\n",
    "combined_y2.rename(columns={'DSFS_x': 'DSFS_Claims', 'DSFS_y': 'DSFS_Drugs', 'DSFS': 'DSFS_Lab'}, inplace=True)\n",
    "combined_y1.rename(columns={'DaysInHospital': 'DaysInHospitalY2'}, inplace=True)\n",
    "combined_y2.rename(columns={'DaysInHospital': 'DaysInHospitalY3'}, inplace=True)\n",
    "\n",
    "combined_y1.to_csv(\"../data/preprocessed/prp_combined_Y1.csv\", index=False)\n",
    "combined_y2.to_csv(\"../data/preprocessed/prp_combined_Y2.csv\", index=False)"
   ]
  }
 ],
 "metadata": {
  "kernelspec": {
   "display_name": "base",
   "language": "python",
   "name": "python3"
  },
  "language_info": {
   "codemirror_mode": {
    "name": "ipython",
    "version": 3
   },
   "file_extension": ".py",
   "mimetype": "text/x-python",
   "name": "python",
   "nbconvert_exporter": "python",
   "pygments_lexer": "ipython3",
   "version": "3.12.4"
  }
 },
 "nbformat": 4,
 "nbformat_minor": 2
}
