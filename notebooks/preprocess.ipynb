{
 "cells": [
  {
   "cell_type": "code",
   "execution_count": 102,
   "metadata": {},
   "outputs": [],
   "source": [
    "import pandas as pd"
   ]
  },
  {
   "cell_type": "code",
   "execution_count": 103,
   "metadata": {},
   "outputs": [],
   "source": [
    "# Load data\n",
    "combined_y1 = pd.read_csv(f\"../data/curated/combined_Y1.csv\")\n",
    "combined_y2 = pd.read_csv(f\"../data/curated/combined_Y2.csv\")"
   ]
  },
  {
   "cell_type": "markdown",
   "metadata": {},
   "source": [
    "## **Dropping Columns**\n",
    "Column `ProviderID`, `Vendor` and `PCP`, since these are random numerical variables that are random adding unnecessary noise."
   ]
  },
  {
   "cell_type": "code",
   "execution_count": 104,
   "metadata": {},
   "outputs": [],
   "source": [
    "# Drop columns ProviderID, Vendor, and PCP\n",
    "combined_y1.drop(columns=['ProviderID', 'Vendor', 'PCP'], inplace=True)\n",
    "combined_y2.drop(columns=['ProviderID', 'Vendor', 'PCP'], inplace=True)"
   ]
  },
  {
   "cell_type": "markdown",
   "metadata": {},
   "source": [
    "## **Handling Missing Numerical Values**"
   ]
  },
  {
   "cell_type": "code",
   "execution_count": 105,
   "metadata": {},
   "outputs": [],
   "source": [
    "# Replace null values in DSFS columns\n",
    "\n",
    "# Drop rows with missing values for DSFS_Claims\n",
    "combined_y1 = combined_y1.dropna(subset=[\"DSFS_x\"])\n",
    "combined_y2 = combined_y2.dropna(subset=[\"DSFS_x\"])\n",
    "\n",
    "# Replace missing values in DSFS_Drugs and DSFS_Labs with 12 (maximum value implying no claim was made in the last 12 months)\n",
    "combined_y1[\"DSFS_y\"] = combined_y1[\"DSFS_y\"].fillna(12)\n",
    "combined_y2[\"DSFS_y\"] = combined_y2[\"DSFS_y\"].fillna(12)\n",
    "combined_y1[\"DSFS\"] = combined_y1[\"DSFS\"].fillna(12)\n",
    "combined_y2[\"DSFS\"] = combined_y2[\"DSFS\"].fillna(12)"
   ]
  },
  {
   "cell_type": "code",
   "execution_count": 106,
   "metadata": {},
   "outputs": [],
   "source": [
    "# Replace missing values in DrugCount and LabCount with 0 (implies no drugs or labs were claimed)\n",
    "combined_y1[\"DrugCount\"] = combined_y1[\"DrugCount\"].fillna(0)\n",
    "combined_y2[\"DrugCount\"] = combined_y2[\"DrugCount\"].fillna(0)\n",
    "combined_y1[\"LabCount\"] = combined_y1[\"LabCount\"].fillna(0)\n",
    "combined_y2[\"LabCount\"] = combined_y2[\"LabCount\"].fillna(0)"
   ]
  },
  {
   "cell_type": "markdown",
   "metadata": {},
   "source": [
    "## **Handling Categorical Variables**\n",
    "The following section handles preprocessing categorical data from the following columns; `Specialty`, `PlaceSvc`, `PrimaryConditionGroup`, `ProcedureGroup`.\n",
    "Missing values in `Specialty` and `PlaceSvc` were first mode-imputed.\n",
    "Column `Specialty` was one-hot-encoded based on whether the specialty was likely to be located in a hospital or not.\n",
    "Column `PlaceSvc` was one-hot-encoded based on whether the place of service was classified as being in a hospital and the relative level of emergency. Noting that; services provided at a hospital (Outpatient) was not classified as being in a hospital."
   ]
  },
  {
   "cell_type": "code",
   "execution_count": 107,
   "metadata": {},
   "outputs": [],
   "source": [
    "# Mode imputation for missing values in Specialty\n",
    "mode_specialty_y1 = combined_y1['Specialty'].mode()[0]\n",
    "mode_specialty_y2 = combined_y2['Specialty'].mode()[0]\n",
    "combined_y1.fillna({'Specialty': mode_specialty_y1}, inplace=True)\n",
    "combined_y2.fillna({'Specialty': mode_specialty_y2}, inplace=True)\n",
    "\n",
    "# Mode imputation for missing values in PlaceSvc\n",
    "mode_placesv_y1 = combined_y1['PlaceSvc'].mode()[0]\n",
    "mode_placesv_y2 = combined_y2['PlaceSvc'].mode()[0]\n",
    "combined_y1.fillna({'PlaceSvc': mode_placesv_y1}, inplace=True)\n",
    "combined_y2.fillna({'PlaceSvc': mode_placesv_y2}, inplace=True)"
   ]
  },
  {
   "cell_type": "code",
   "execution_count": 108,
   "metadata": {},
   "outputs": [],
   "source": [
    "# One hot encode categroical variables in Specialty\n",
    "# 1 for specialties in hospitals, 0 for rest\n",
    "positive = ['Anesthesiology', 'Diagnostic Imaging', 'Emergency', 'Internal', 'Pathology', 'Surgery']\n",
    "combined_y1['Specialty'] = combined_y1['Specialty'].apply(lambda x: 1 if x in positive else 0)\n",
    "combined_y2['Specialty'] = combined_y2['Specialty'].apply(lambda x: 1 if x in positive else 0)\n",
    "\n",
    "# One hot encode categroical variables in PlaceSvc\n",
    "# 1 for specialties in hospitals, 0 for rest\n",
    "positive = ['Inpatient Hospital', 'Ambulance', 'Urgent Care']\n",
    "combined_y1['PlaceSvc'] = combined_y1['PlaceSvc'].apply(lambda x: 1 if x in positive else 0)\n",
    "combined_y2['PlaceSvc'] = combined_y2['PlaceSvc'].apply(lambda x: 1 if x in positive else 0)"
   ]
  },
  {
   "cell_type": "code",
   "execution_count": 109,
   "metadata": {},
   "outputs": [
    {
     "name": "stderr",
     "output_type": "stream",
     "text": [
      "C:\\Users\\Rasindu\\AppData\\Local\\Temp\\ipykernel_2400\\3680787470.py:2: FutureWarning: Downcasting behavior in `replace` is deprecated and will be removed in a future version. To retain the old behavior, explicitly call `result.infer_objects(copy=False)`. To opt-in to the future behavior, set `pd.set_option('future.no_silent_downcasting', True)`\n",
      "  combined_y1['Sex'] = combined_y1['Sex'].replace({'M': 0, 'N': 0.5, 'F': 1})\n",
      "C:\\Users\\Rasindu\\AppData\\Local\\Temp\\ipykernel_2400\\3680787470.py:3: FutureWarning: Downcasting behavior in `replace` is deprecated and will be removed in a future version. To retain the old behavior, explicitly call `result.infer_objects(copy=False)`. To opt-in to the future behavior, set `pd.set_option('future.no_silent_downcasting', True)`\n",
      "  combined_y2['Sex'] = combined_y2['Sex'].replace({'M': 0, 'N': 0.5, 'F': 1})\n"
     ]
    }
   ],
   "source": [
    "# Encode Sex column with normalised values\n",
    "combined_y1['Sex'] = combined_y1['Sex'].replace({'M': 0, 'N': 0.5, 'F': 1})\n",
    "combined_y2['Sex'] = combined_y2['Sex'].replace({'M': 0, 'N': 0.5, 'F': 1})"
   ]
  },
  {
   "cell_type": "code",
   "execution_count": 110,
   "metadata": {},
   "outputs": [],
   "source": [
    "# Drop rows with missing values since there are only a few\n",
    "subset = ['ProcedureGroup', 'PrimaryConditionGroup']\n",
    "combined_y1.dropna(subset=subset, inplace=True)\n",
    "combined_y2.dropna(subset=subset, inplace=True)"
   ]
  },
  {
   "cell_type": "markdown",
   "metadata": {},
   "source": [
    "`ProcedureGroup` was encoded using the following table, where each procedure was assigned a rank based on the expected hospital stay, ranked on a scale of 0 to 5, where a rank of 5 is a procedure expected to result in the longest stay.\n",
    "Rank assignments are based off of the conditions listed for each `ProcedureGroup` in https://foreverdata.org/1015/content/Data_Dictionary_release3.pdf and informal knowledge pertaining to the severity of the procedure.\n",
    "\n",
    "| ProcedureGroup | Description                             | Rank (0-5) |\n",
    "|----------------|-----------------------------------------|------------|\n",
    "| PL             | Pathology and Laboratory                | 0          |\n",
    "| RAD            | Radiology                               | 0          |\n",
    "| MED            | Medicine                                | 0          |\n",
    "| ANES           | Anesthesia                              | 1          |\n",
    "| EM             | Evaluation and Management               | 1          |\n",
    "| SEOA           | Surgery-Eye and Ocular Adnexa           | 1          |\n",
    "| SAS            | Surgery-Auditory System                 | 2          |\n",
    "| SIS            | Surgery-Integumentary System            | 2          |\n",
    "| SMCD           | Surgery-Maternity Care and Delivery     | 3          |\n",
    "| SO             | Surgery-Other                           | 3          |\n",
    "| SGS            | Surgery-Genital System                  | 3          |\n",
    "| SUS            | Surgery-Urinary System                  | 4          |\n",
    "| SDS            | Surgery-Digestive System                | 4          |\n",
    "| SMS            | Surgery-Musculoskeletal System          | 4          |\n",
    "| SRS            | Surgery-Respiratory System              | 5          |\n",
    "| SNS            | Surgery-Nervous System                  | 5          |\n",
    "| SCS            | Surgery-Cardiovascular System           | 5          |"
   ]
  },
  {
   "cell_type": "code",
   "execution_count": 111,
   "metadata": {},
   "outputs": [],
   "source": [
    "r0 = ['PL', 'RAD', 'MED']\n",
    "r1 = ['ANES', 'EM', 'SEOA']\n",
    "r2 = ['SAS', 'SIS']\n",
    "r3 = ['SMCD', 'SO', 'SGS']\n",
    "r4 = ['SUS', 'SDS', 'SMS']\n",
    "r5 = ['SRS', 'SNS', 'SCS']\n",
    "\n",
    "ranks = [r0, r1, r2, r3, r4, r5]\n",
    "\n",
    "for i in range(len(ranks)):\n",
    "    combined_y1['ProcedureGroup'] = combined_y1['ProcedureGroup'].apply(lambda x: i if x in ranks[i] else x)\n",
    "    combined_y2['ProcedureGroup'] = combined_y2['ProcedureGroup'].apply(lambda x: i if x in ranks[i] else x)"
   ]
  },
  {
   "cell_type": "markdown",
   "metadata": {},
   "source": [
    "`PrimaryConditionGroup` was encoded using the following table, where each procedure was assigned a rank based on the expected hospital stay, ranked on a scale of 1 to 5, where a rank of 5 is a procedure expected to result in the longest stay.\n",
    "Rank assignments are based off of the conditions listed for each `PrimaryConditionGroup` in https://foreverdata.org/1015/content/Data_Dictionary_release3.pdf and informal knowledge pertaining to the severity of the condition.\n",
    "\n",
    "| PrimaryConditionGroup | Description                                  | Rank (1-5) |\n",
    "|-----------------------|----------------------------------------------|------------|\n",
    "| GYNEC1                | Gynecology                                   | 1          |\n",
    "| ODaBNCA               | Ingestions and benign tumors                 | 1          |\n",
    "| PRGNCY                | Pregnancy                                    | 1          |\n",
    "| UTI                   | Urinary tract infections                     | 2          |\n",
    "| ARTHSPIN              | Arthropathies                                | 2          |\n",
    "| INFEC4                | All other infections                         | 2          |\n",
    "| SKNAUT                | Skin and autoimmune disorders                | 2          |\n",
    "| MISCL1                | Miscellaneous 1                              | 2          |\n",
    "| MSC2a3                | Miscellaneous 2                              | 2          |\n",
    "| MISCL5                | Miscellaneous 3                              | 2          |\n",
    "| HEMTOL                | Non-malignant hematologic                    | 2          |\n",
    "| ROAMI                 | Chest pain                                   | 2          |\n",
    "| HEART2                | Other cardiac conditions                     | 3          |\n",
    "| APPCHOL               | Appendicitis                                 | 3          |\n",
    "| SEIZURE               | Seizure                                      | 3          |\n",
    "| RENAL3                | Other renal disorders                        | 3          |\n",
    "| MISCHRT               | Miscellaneous cardiac                        | 3          |\n",
    "| METAB3                | Other metabolic disorders                    | 3          |\n",
    "| NEUMENT               | Other neurological disorders                 | 3          |\n",
    "| HEART4                | Atherosclerosis and peripheral vascular disease | 3       |\n",
    "| PERVALV               | Pericarditis                                 | 3          |\n",
    "| FLaELEC               | Fluid and electrolyte disorders              | 3          |\n",
    "| FXDISLC               | Fractures and dislocations                   | 3          |\n",
    "| PERINTL               | Perinatal period                             | 4          |\n",
    "| HIPFX                 | Hip fracture                                 | 4          |\n",
    "| GIOBSENT              | Gastrointestinal, IBD, and obstruction       | 4          |\n",
    "| GIBLEED               | Gastrointestinal bleeding                    | 4          |\n",
    "| LIVERDZ               | Liver disorders                              | 4          |\n",
    "| METAB1                | Diabetic ketoacidosis                        | 4          |\n",
    "| PNCRDZ                | Pancreatic disorders                         | 4          |\n",
    "| PNEUM                 | Pneumonia                                    | 4          |\n",
    "| COPD                  | Chronic obstructive pulmonary disorder       | 4          |\n",
    "| RENAL2                | Chronic renal failure                        | 4          |\n",
    "| RESPR4                | Acute respiratory disorders                  | 4          |\n",
    "| CHF                   | Congestive heart failure                     | 4          |\n",
    "| TRAUMA                | All other trauma                             | 4          |\n",
    "| CATAST                | Catastrophic conditions                      | 5          |\n",
    "| CANCRA                | Cancer A                                     | 5          |\n",
    "| CANCRB                | Cancer B                                     | 5          |\n",
    "| RENAL1                | Acute renal failure                          | 5          |\n",
    "| SEPSIS                | Sepsis                                       | 5          |\n",
    "| GYNECA                | Gynecologic cancers                          | 5          |\n",
    "| CANCRM                | Ovarian and metastatic cancer                | 5          |\n",
    "| STROKE                | Stroke                                       | 5          |\n",
    "| AMI                   | Acute myocardial infarction                  | 5          |"
   ]
  },
  {
   "cell_type": "code",
   "execution_count": 112,
   "metadata": {},
   "outputs": [],
   "source": [
    "r1 = ['GYNEC1', 'ODaBNCA', 'PRGNCY']\n",
    "r2 = ['UTI', 'ARTHSPIN', 'INFEC4', 'SKNAUT', 'MISCL1', 'HEMTOL', 'MSC2a3', 'ROAMI', 'MISCL5']\n",
    "r3 = ['HEART2', 'APPCHOL','SEIZURE', 'RENAL3', 'MISCHRT', 'METAB3', 'NEUMENT', 'HEART4', 'PERVALV', 'FLaELEC', 'FXDISLC']\n",
    "r4 = ['PERINTL', 'HIPFX', 'GIOBSENT', 'GIBLEED' , 'LIVERDZ', 'METAB1', 'PNCRDZ', 'PNEUM', 'COPD', 'RENAL2', 'RESPR4', 'CHF', 'TRAUMA']\n",
    "r5 = ['CATAST', 'CANCRA', 'CANCRB', 'RENAL1', 'SEPSIS', 'GYNECA', 'CANCRM', 'STROKE', 'AMI']\n",
    "\n",
    "ranks = [r1, r2, r3, r4, r5]\n",
    "\n",
    "for i in range(1,len(ranks)+1):\n",
    "    combined_y1['PrimaryConditionGroup'] = combined_y1['PrimaryConditionGroup'].apply(lambda x: i if x in ranks[i-1] else x)\n",
    "    combined_y2['PrimaryConditionGroup'] = combined_y2['PrimaryConditionGroup'].apply(lambda x: i if x in ranks[i-1] else x)"
   ]
  },
  {
   "cell_type": "markdown",
   "metadata": {},
   "source": [
    "## **Normalization**\n",
    "This section is intended to normalize the data in `LengthOfStay` column, however, this has been moved to within the cross validation loops since the normalizer should be fit with only training data (and not also validation/testing data)."
   ]
  },
  {
   "cell_type": "markdown",
   "metadata": {},
   "source": [
    "## **Exporting DataFrames**"
   ]
  },
  {
   "cell_type": "code",
   "execution_count": 113,
   "metadata": {},
   "outputs": [],
   "source": [
    "combined_y1.rename(columns={'DSFS_x': 'DSFS_Claims', 'DSFS_y': 'DSFS_Drugs', 'DSFS': 'DSFS_Lab'}, inplace=True)\n",
    "combined_y2.rename(columns={'DSFS_x': 'DSFS_Claims', 'DSFS_y': 'DSFS_Drugs', 'DSFS': 'DSFS_Lab'}, inplace=True)\n",
    "combined_y1.rename(columns={'DaysInHospital': 'DaysInHospitalY2'}, inplace=True)\n",
    "combined_y2.rename(columns={'DaysInHospital': 'DaysInHospitalY3'}, inplace=True)\n",
    "\n",
    "combined_y1.to_csv(\"../data/preprocessed/prp_combined_Y1.csv\", index=False)\n",
    "combined_y2.to_csv(\"../data/preprocessed/prp_combined_Y2.csv\", index=False)"
   ]
  }
 ],
 "metadata": {
  "kernelspec": {
   "display_name": "base",
   "language": "python",
   "name": "python3"
  },
  "language_info": {
   "codemirror_mode": {
    "name": "ipython",
    "version": 3
   },
   "file_extension": ".py",
   "mimetype": "text/x-python",
   "name": "python",
   "nbconvert_exporter": "python",
   "pygments_lexer": "ipython3",
   "version": "3.12.4"
  }
 },
 "nbformat": 4,
 "nbformat_minor": 2
}
